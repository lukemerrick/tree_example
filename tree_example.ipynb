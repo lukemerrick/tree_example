{
 "cells": [
  {
   "cell_type": "code",
   "execution_count": 6,
   "metadata": {},
   "outputs": [],
   "source": [
    "from anytree import Node, RenderTree\n",
    "from anytree.exporter import DotExporter"
   ]
  },
  {
   "cell_type": "code",
   "execution_count": 2,
   "metadata": {},
   "outputs": [],
   "source": [
    "example_strings = [\n",
    "    'A/B/C/D',\n",
    "    'A/B/C2/D2',\n",
    "    'A/B2/C3/D3',\n",
    "]"
   ]
  },
  {
   "cell_type": "code",
   "execution_count": 5,
   "metadata": {},
   "outputs": [
    {
     "name": "stdout",
     "output_type": "stream",
     "text": [
      "A B\n",
      "B C\n",
      "C D\n",
      "A B\n",
      "B C2\n",
      "C2 D2\n",
      "A B2\n",
      "B2 C3\n",
      "C3 D3\n"
     ]
    }
   ],
   "source": [
    "tree_nodes = {}\n",
    "for s in example_strings:\n",
    "    parent_child_list = s.split('/')\n",
    "    for i in range(len(parent_child_list)-1):\n",
    "        parent_value, child_value = parent_child_list[i], parent_child_list[i+1]\n",
    "        if parent_value not in tree_nodes:\n",
    "            # parent doesn't exist so we create it with no known parent\n",
    "            # this *should* only happen when parent is the root\n",
    "            tree_nodes[parent_value] = Node(parent_value)\n",
    "            \n",
    "        if child_value in tree_nodes:\n",
    "            # parent and child Nodes already created\n",
    "            # make sure child knows who its parent is\n",
    "            tree_nodes[child_value].parent = tree_nodes[parent_value]\n",
    "        else:\n",
    "            # parent exists but child not created yet\n",
    "            # so we create the child\n",
    "            tree_nodes[child_value] = Node(child_value, parent=tree_nodes[parent_value])"
   ]
  },
  {
   "cell_type": "code",
   "execution_count": 9,
   "metadata": {},
   "outputs": [
    {
     "name": "stdout",
     "output_type": "stream",
     "text": [
      "Node('/A')\n",
      "├── Node('/A/B')\n",
      "│   ├── Node('/A/B/C')\n",
      "│   │   └── Node('/A/B/C/D')\n",
      "│   └── Node('/A/B/C2')\n",
      "│       └── Node('/A/B/C2/D2')\n",
      "└── Node('/A/B2')\n",
      "    └── Node('/A/B2/C3')\n",
      "        └── Node('/A/B2/C3/D3')\n"
     ]
    }
   ],
   "source": [
    "# note, 'A' is the root\n",
    "print(RenderTree(tree_nodes['A']))"
   ]
  },
  {
   "cell_type": "code",
   "execution_count": null,
   "metadata": {},
   "outputs": [],
   "source": []
  }
 ],
 "metadata": {
  "kernelspec": {
   "display_name": "Python 3",
   "language": "python",
   "name": "python3"
  },
  "language_info": {
   "codemirror_mode": {
    "name": "ipython",
    "version": 3
   },
   "file_extension": ".py",
   "mimetype": "text/x-python",
   "name": "python",
   "nbconvert_exporter": "python",
   "pygments_lexer": "ipython3",
   "version": "3.6.3"
  }
 },
 "nbformat": 4,
 "nbformat_minor": 2
}
